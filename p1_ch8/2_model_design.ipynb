{
 "cells": [
  {
   "cell_type": "code",
   "execution_count": 1,
   "id": "c7cda287-e00d-4ab7-9f6e-319c1ba1ab9a",
   "metadata": {},
   "outputs": [
    {
     "name": "stderr",
     "output_type": "stream",
     "text": [
      "C:\\Users\\lenovo\\anaconda3\\envs\\yolo\\lib\\site-packages\\tqdm\\auto.py:22: TqdmWarning: IProgress not found. Please update jupyter and ipywidgets. See https://ipywidgets.readthedocs.io/en/stable/user_install.html\n",
      "  from .autonotebook import tqdm as notebook_tqdm\n"
     ]
    },
    {
     "data": {
      "text/plain": [
       "<torch._C.Generator at 0x210c498ae88>"
      ]
     },
     "execution_count": 1,
     "metadata": {},
     "output_type": "execute_result"
    }
   ],
   "source": [
    "import numpy as np\n",
    "import matplotlib.pyplot as plt\n",
    "import seaborn as sns\n",
    "import datetime\n",
    "\n",
    "import torch\n",
    "import torch.nn as nn\n",
    "import torch.nn.functional as F\n",
    "import torch.optim as optim\n",
    "from torchvision import datasets, transforms\n",
    "\n",
    "torch.set_printoptions(edgeitems=3, linewidth=120)\n",
    "torch.manual_seed(123)"
   ]
  },
  {
   "cell_type": "markdown",
   "id": "9b8e8157-6d01-4e00-80b1-5d682b03408e",
   "metadata": {},
   "source": [
    "# 准备"
   ]
  },
  {
   "cell_type": "markdown",
   "id": "9a02752e-e76d-442b-bd50-a549b5a8e3db",
   "metadata": {},
   "source": [
    "## 提取数据"
   ]
  },
  {
   "cell_type": "code",
   "execution_count": 2,
   "id": "6d154d6e-acb9-46d8-9d14-6b90d0fefd8c",
   "metadata": {},
   "outputs": [
    {
     "name": "stdout",
     "output_type": "stream",
     "text": [
      "Files already downloaded and verified\n",
      "Files already downloaded and verified\n"
     ]
    },
    {
     "data": {
      "text/plain": [
       "(50000, 10000)"
      ]
     },
     "execution_count": 2,
     "metadata": {},
     "output_type": "execute_result"
    }
   ],
   "source": [
    "class_names = ['airplane', 'automobile', 'bird', 'cat', 'deer', 'dog', \n",
    "               'frog', 'horse', 'ship', 'truck']\n",
    "data_path = 'data/'\n",
    "\n",
    "cifar10 = datasets.CIFAR10(\n",
    "    data_path, train=True, download=True,\n",
    "    transform=transforms.Compose([\n",
    "        transforms.ToTensor(),\n",
    "        transforms.Normalize((0.4915, 0.4823, 0.4468),\n",
    "                             (0.2470, 0.2435, 0.2616))\n",
    "    ]))\n",
    "cifar10_val = datasets.CIFAR10(\n",
    "    data_path, train=False, download=True,\n",
    "    transform=transforms.Compose([\n",
    "        transforms.ToTensor(),\n",
    "        transforms.Normalize((0.4915, 0.4823, 0.4468),\n",
    "                             (0.2470, 0.2435, 0.2616))\n",
    "    ]))\n",
    "\n",
    "\n",
    "label_map = {0: 0, 2: 1}\n",
    "class_names = ['airplane', 'bird']\n",
    "cifar2 = [(img, label_map[label]) for img, label in cifar10 if label in [0, 2]]\n",
    "cifar2_val = [(img, label_map[label]) for img, label in cifar10_val if label in [0, 2]]\n",
    "\n",
    "len(cifar10), len(cifar2)\n",
    "\n"
   ]
  },
  {
   "cell_type": "markdown",
   "id": "6b14ef12-1cce-48fa-93ac-02217e0f2540",
   "metadata": {},
   "source": [
    "## 训练函数"
   ]
  },
  {
   "cell_type": "code",
   "execution_count": 3,
   "id": "a4db0b72-2e58-419c-b85c-865e8f8713e2",
   "metadata": {},
   "outputs": [],
   "source": [
    "def training_loop(n_epochs, model, optimizer, loss_fn, train_loader):\n",
    "    \n",
    "    for epoch in range(1, n_epochs + 1):\n",
    "        each_epoch_loss = 0.0\n",
    "        for imgs, labels in train_loader:\n",
    "\n",
    "            imgs   = imgs.to(device)\n",
    "            labels = labels.to(device)\n",
    "            outputs = model(imgs)\n",
    "            loss = loss_fn(outputs, labels)\n",
    "\n",
    "            optimizer.zero_grad()\n",
    "            loss.backward()\n",
    "            optimizer.step()\n",
    "\n",
    "            each_epoch_loss += loss\n",
    "    \n",
    "        current_time = datetime.datetime.now().strftime(\"%Y-%m-%d %H:%M:%S.%f\")[: -4]\n",
    "        if epoch in {1, 2, 3, 4, 5} or epoch % 20 == 0:\n",
    "            print(f'[Epoch: {epoch}] at {current_time} \\nTraining Loss: {each_epoch_loss / len(train_loader):.4f}')\n",
    "        if epoch == 6:\n",
    "            print('    ...    ...   ...   ...   ...   ')\n",
    "        if epoch % 20 == 1 and epoch != 1:\n",
    "            print('    ...    ...   ...   ...   ...   ')\n",
    "        \n",
    "\n"
   ]
  },
  {
   "cell_type": "markdown",
   "id": "7935d551-8839-49df-b8da-a58d47ef1b19",
   "metadata": {},
   "source": [
    "## 计算准确率"
   ]
  },
  {
   "cell_type": "code",
   "execution_count": 3,
   "id": "d3adbcdc-862b-45e0-89b9-ce0a3619fee3",
   "metadata": {},
   "outputs": [],
   "source": [
    "def calculate_accuracy(model, data_loader, model_name, loader_name='Validation'):\n",
    "    \n",
    "    correct = 0\n",
    "    total   = 0\n",
    "    \n",
    "    with torch.no_grad():\n",
    "        for imgs, labels in data_loader:\n",
    "            \n",
    "            imgs   = imgs.to(device)\n",
    "            labels = labels.to(device)\n",
    "            \n",
    "            outputs = model(imgs)\n",
    "            _, preds = torch.max(outputs, dim=1)\n",
    "            total += labels.shape[0]\n",
    "            correct += int((preds == labels).sum())\n",
    "    \n",
    "    correct_rate = correct / total\n",
    "    print(f'Accuracy of Model [{model_name}] on [{loader_name}] set is {correct_rate:.4f}')\n",
    "    return correct_rate\n"
   ]
  },
  {
   "cell_type": "markdown",
   "id": "d09251ea-d94a-4fab-a78f-fbceb9d90945",
   "metadata": {},
   "source": [
    "# 加宽模型"
   ]
  },
  {
   "cell_type": "markdown",
   "id": "379bbd0e-03d9-4098-92cb-f5fe195901ff",
   "metadata": {},
   "source": [
    "## 模型*WidenNet*"
   ]
  },
  {
   "cell_type": "code",
   "execution_count": 4,
   "id": "6bb7da56-d0ba-478c-98a7-3704c8f44650",
   "metadata": {},
   "outputs": [],
   "source": [
    "class WidenNet(nn.Module):\n",
    "    def __init__(self):\n",
    "        super().__init__()\n",
    "        self.conv1 = nn.Conv2d(in_channels=3, out_channels=32, kernel_size=(3, 3), padding=1)\n",
    "        self.conv2 = nn.Conv2d(in_channels=32, out_channels=16, kernel_size=(3, 3), padding=1)\n",
    "        self.fc1 = nn.Linear(16 * 8 * 8, 32)\n",
    "        self.fc2 = nn.Linear(32, 2)\n",
    "\n",
    "    def forward(self, x):\n",
    "        out = F.max_pool2d(torch.tanh(self.conv1(x)), 2)\n",
    "        out = F.max_pool2d(torch.tanh(self.conv2(out)), 2)\n",
    "        out = out.view(-1, 16 * 8 * 8)\n",
    "        out = torch.tanh(self.fc1(out))\n",
    "        out = self.fc2(out)\n",
    "\n",
    "        return out\n",
    "    "
   ]
  },
  {
   "cell_type": "code",
   "execution_count": 5,
   "id": "fa3603f4-a583-4977-a5ac-1455776e3338",
   "metadata": {},
   "outputs": [],
   "source": [
    "class WidenNet(nn.Module):\n",
    "    def __init__(self, in_channels1=3, out_channels1=32):\n",
    "        super().__init__()\n",
    "        self.in_channels2  = out_channels1\n",
    "        self.out_channels2 = out_channels1 // 2\n",
    "        self.conv1 = nn.Conv2d(in_channels1, out_channels1, kernel_size=(3, 3), padding=1)\n",
    "        self.conv2 = nn.Conv2d(self.in_channels2, self.out_channels2, kernel_size=(3, 3), padding=1)\n",
    "        self.fc1 = nn.Linear(self.out_channels2 * 8 * 8, 32)\n",
    "        self.fc2 = nn.Linear(32, 2)\n",
    "    \n",
    "    def forward(self, x):\n",
    "        out = F.max_pool2d(torch.tanh(self.conv1(x)), 2)\n",
    "        out = F.max_pool2d(torch.tanh(self.conv2(out)), 2)\n",
    "        out = out.view(-1, self.out_channels2 * 8 * 8)\n",
    "        out = torch.tanh(self.fc1(out))\n",
    "        out = self.fc2(out)\n",
    "\n",
    "        return out\n"
   ]
  },
  {
   "cell_type": "markdown",
   "id": "63a8a534-8d02-430b-a2c8-4d1ad3c5dbe3",
   "metadata": {},
   "source": [
    "## 训练"
   ]
  },
  {
   "cell_type": "code",
   "execution_count": 10,
   "id": "ea5f4299-7f63-4b31-9a53-ef642f2fe504",
   "metadata": {},
   "outputs": [
    {
     "name": "stdout",
     "output_type": "stream",
     "text": [
      "Training model [WidenNet] on deivce [cuda]... ...\n",
      "[Epoch: 1] at 2023-07-27 10:54:47.20 \n",
      "Training Loss: 0.5662\n",
      "[Epoch: 2] at 2023-07-27 10:54:48.60 \n",
      "Training Loss: 0.4752\n",
      "[Epoch: 3] at 2023-07-27 10:54:50.00 \n",
      "Training Loss: 0.4334\n",
      "[Epoch: 4] at 2023-07-27 10:54:51.41 \n",
      "Training Loss: 0.3907\n",
      "[Epoch: 5] at 2023-07-27 10:54:52.82 \n",
      "Training Loss: 0.3614\n",
      "    ...    ...   ...   ...   ...   \n",
      "[Epoch: 20] at 2023-07-27 10:55:13.91 \n",
      "Training Loss: 0.2649\n",
      "    ...    ...   ...   ...   ...   \n",
      "[Epoch: 40] at 2023-07-27 10:55:41.95 \n",
      "Training Loss: 0.2052\n",
      "    ...    ...   ...   ...   ...   \n",
      "[Epoch: 60] at 2023-07-27 10:56:09.94 \n",
      "Training Loss: 0.1644\n",
      "    ...    ...   ...   ...   ...   \n",
      "[Epoch: 80] at 2023-07-27 10:56:38.12 \n",
      "Training Loss: 0.1252\n",
      "    ...    ...   ...   ...   ...   \n",
      "[Epoch: 100] at 2023-07-27 10:57:06.32 \n",
      "Training Loss: 0.0905\n"
     ]
    }
   ],
   "source": [
    "n_epochs = 100\n",
    "batch_size = 64\n",
    "learning_rate = 1e-2\n",
    "model_name = 'WidenNet'\n",
    "\n",
    "device = (torch.device('cuda') if torch.cuda.is_available() else torch.device('cpu'))\n",
    "print(f'Training model [{model_name}] on deivce [{device}]... ...')\n",
    "\n",
    "widennet = WidenNet().to(device)\n",
    "optimizer = optim.SGD(widennet.parameters(), lr=learning_rate)\n",
    "loss_fn = nn.CrossEntropyLoss()\n",
    "train_loader = torch.utils.data.DataLoader(cifar2, batch_size=batch_size, shuffle=True)\n",
    "\n",
    "\n",
    "training_loop(\n",
    "    \n",
    "    n_epochs,\n",
    "    widennet,\n",
    "    optimizer, \n",
    "    loss_fn,\n",
    "    train_loader\n",
    "    \n",
    ")\n"
   ]
  },
  {
   "cell_type": "code",
   "execution_count": 11,
   "id": "76128d9e-30ce-491a-9566-1e9764b86660",
   "metadata": {},
   "outputs": [],
   "source": [
    "torch.save(widennet.state_dict(), 'model_parameters/widennet.pt')  # 只有模型的权重、没有结构\n"
   ]
  },
  {
   "cell_type": "code",
   "execution_count": 12,
   "id": "e08feac6-e1a8-4d4f-a9d2-1f5ac9f5c47c",
   "metadata": {},
   "outputs": [
    {
     "name": "stdout",
     "output_type": "stream",
     "text": [
      "Accuracy of Model [WidenNet] on [Train] set is 0.9654\n",
      "Accuracy of Model [WidenNet] on [Validation] set is 0.8945\n"
     ]
    }
   ],
   "source": [
    "train_loader = torch.utils.data.DataLoader(cifar2, batch_size=64, shuffle=False)\n",
    "val_loader   = torch.utils.data.DataLoader(cifar2_val, batch_size=64, shuffle=False)\n",
    "\n",
    "calculate_accuracy(widennet, train_loader, model_name, 'Train')\n",
    "calculate_accuracy(widennet, val_loader, model_name)    \n",
    "   "
   ]
  },
  {
   "cell_type": "markdown",
   "id": "e6cd0ae5-39b3-435c-ad4f-a77e5d4b5850",
   "metadata": {},
   "source": [
    "# 正则化"
   ]
  },
  {
   "cell_type": "markdown",
   "id": "99aadead-33a3-4578-9b1e-c7256cd1158a",
   "metadata": {},
   "source": [
    "## 初始模型"
   ]
  },
  {
   "cell_type": "code",
   "execution_count": 6,
   "id": "85df19c4-5046-41e4-bdbc-8f2c2514c849",
   "metadata": {},
   "outputs": [],
   "source": [
    "class Net(nn.Module):\n",
    "    def __init__(self):\n",
    "        super().__init__()\n",
    "        self.conv1 = nn.Conv2d(in_channels=3, out_channels=16, kernel_size=(3, 3), padding=1)\n",
    "        self.conv2 = nn.Conv2d(in_channels=16, out_channels=8, kernel_size=(3, 3), padding=1)\n",
    "        self.fc1   = nn.Linear(8 * 8 * 8, 32)\n",
    "        self.fc2   = nn.Linear(32, 2)\n",
    "        \n",
    "    def forward(self, x):\n",
    "        out = F.max_pool2d(torch.tanh(self.conv1(x)), 2)\n",
    "        out = F.max_pool2d(torch.tanh(self.conv2(out)), 2)\n",
    "        out = out.view(-1, 8 * 8 * 8)\n",
    "        out = torch.tanh(self.fc1(out))\n",
    "        out = self.fc2(out)\n",
    "        \n",
    "        return out\n",
    "    "
   ]
  },
  {
   "cell_type": "markdown",
   "id": "76269688-daec-4a31-9788-d69b8d807b60",
   "metadata": {},
   "source": [
    "## 修改训练函数中损失的大小"
   ]
  },
  {
   "cell_type": "code",
   "execution_count": 12,
   "id": "de4c09a8-6104-44e0-bd9c-9db7567756f7",
   "metadata": {},
   "outputs": [],
   "source": [
    "def training_loop_L2Reg(n_epochs, model, optimizer, loss_fn, train_loader):\n",
    "    \n",
    "    for epoch in range(1, n_epochs + 1):\n",
    "        each_epoch_loss = 0.0\n",
    "        for imgs, labels in train_loader:\n",
    "\n",
    "            imgs = imgs.to(device)\n",
    "            labels = labels.to(device)\n",
    "            outputs = model(imgs)\n",
    "            loss = loss_fn(outputs, labels)\n",
    "\n",
    "            L2_lambda = 0.001\n",
    "            L2_norm = sum(params.pow(2.0).sum()\n",
    "                          for params in model.parameters())\n",
    "            loss = loss + L2_lambda * L2_norm\n",
    "\n",
    "            optimizer.zero_grad()\n",
    "            loss.backward()\n",
    "            optimizer.step()\n",
    "\n",
    "            each_epoch_loss += loss.item()\n",
    "\n",
    "        current_time = datetime.datetime.now().strftime(\"%Y-%m-%d %H:%M:%S.%f\")[: -4]\n",
    "        if epoch in {1, 2, 3, 4, 5} or epoch % 20 == 0:\n",
    "            print(f'[Epoch: {epoch}] at {current_time} \\nTraining Loss: {each_epoch_loss / len(train_loader):.4f}')\n",
    "        if epoch == 6:\n",
    "            print('    ...    ...   ...   ...   ...   ')\n",
    "        if epoch % 20 == 1 and epoch != 1:\n",
    "            print('    ...    ...   ...   ...   ...   ')\n",
    "        \n",
    "      \n"
   ]
  },
  {
   "cell_type": "markdown",
   "id": "12d9d56c-55d4-43c3-887c-2e7703b80b5f",
   "metadata": {},
   "source": [
    "## 训练"
   ]
  },
  {
   "cell_type": "code",
   "execution_count": 14,
   "id": "c9d89590-7f3f-490e-bc17-ffd22be4db74",
   "metadata": {},
   "outputs": [
    {
     "name": "stdout",
     "output_type": "stream",
     "text": [
      "Training model [Net] on deivce [cuda]... ...\n",
      "[Epoch: 1] at 2023-07-26 20:06:04.46 \n",
      "Training Loss: 0.5803\n",
      "[Epoch: 2] at 2023-07-26 20:06:05.40 \n",
      "Training Loss: 0.4978\n",
      "[Epoch: 3] at 2023-07-26 20:06:06.45 \n",
      "Training Loss: 0.4758\n",
      "[Epoch: 4] at 2023-07-26 20:06:07.54 \n",
      "Training Loss: 0.4567\n",
      "[Epoch: 5] at 2023-07-26 20:06:08.67 \n",
      "Training Loss: 0.4374\n",
      "   ...    ...   ...   ...   ...   \n",
      "[Epoch: 20] at 2023-07-26 20:06:21.95 \n",
      "Training Loss: 0.3264\n",
      "   ...    ...   ...   ...   ...   \n",
      "[Epoch: 40] at 2023-07-26 20:06:41.57 \n",
      "Training Loss: 0.2893\n",
      "   ...    ...   ...   ...   ...   \n",
      "[Epoch: 60] at 2023-07-26 20:07:02.46 \n",
      "Training Loss: 0.2597\n",
      "   ...    ...   ...   ...   ...   \n",
      "[Epoch: 80] at 2023-07-26 20:07:23.80 \n",
      "Training Loss: 0.2320\n",
      "   ...    ...   ...   ...   ...   \n",
      "[Epoch: 100] at 2023-07-26 20:07:41.12 \n",
      "Training Loss: 0.2139\n"
     ]
    }
   ],
   "source": [
    "n_epochs = 100\n",
    "batch_size = 64\n",
    "learning_rate = 1e-2\n",
    "model_name = 'Net'\n",
    "\n",
    "device = (torch.device('cuda') if torch.cuda.is_available() else torch.device('cpu'))\n",
    "print(f'Training model [{model_name}] on deivce [{device}]... ...')\n",
    "\n",
    "net = Net().to(device)\n",
    "optimizer = optim.SGD(net.parameters(), lr=learning_rate)\n",
    "loss_fn = nn.CrossEntropyLoss()\n",
    "train_loader = torch.utils.data.DataLoader(cifar2, batch_size=batch_size, shuffle=True)\n",
    "\n",
    "\n",
    "training_loop_L2Reg(\n",
    "    \n",
    "    n_epochs,\n",
    "    net,\n",
    "    optimizer, \n",
    "    loss_fn,\n",
    "    train_loader\n",
    "    \n",
    ")\n",
    "\n"
   ]
  },
  {
   "cell_type": "code",
   "execution_count": 15,
   "id": "f8ed2901-7fad-4ee4-97af-834cc61d6dad",
   "metadata": {},
   "outputs": [],
   "source": [
    "torch.save(net.state_dict(), 'model_parameters/net_L2Reg.pt')  # 只有模型的权重、没有结构\n"
   ]
  },
  {
   "cell_type": "code",
   "execution_count": 16,
   "id": "cc05b363-efce-4f9b-81c6-bc93a9c6a460",
   "metadata": {},
   "outputs": [
    {
     "name": "stdout",
     "output_type": "stream",
     "text": [
      "Accuracy of Model [Net] on [Train] set is 0.9303\n",
      "Accuracy of Model [Net] on [Validation] set is 0.8855\n"
     ]
    }
   ],
   "source": [
    "train_loader = torch.utils.data.DataLoader(cifar2, batch_size=64, shuffle=False)\n",
    "val_loader   = torch.utils.data.DataLoader(cifar2_val, batch_size=64, shuffle=False)\n",
    "\n",
    "calculate_accuracy(net, train_loader, model_name, 'Train')\n",
    "calculate_accuracy(net, val_loader, model_name)    \n",
    "   "
   ]
  },
  {
   "cell_type": "markdown",
   "id": "8f5ace2b-afd1-4147-aa48-d8d48031c88f",
   "metadata": {},
   "source": [
    "# 随机清零神经元"
   ]
  },
  {
   "cell_type": "markdown",
   "id": "65ee5677-9195-4103-afbb-23022a8b4bd2",
   "metadata": {},
   "source": [
    "## 添加*nn.Dropout*模块"
   ]
  },
  {
   "cell_type": "code",
   "execution_count": 7,
   "id": "ebb4d3f3-a524-477e-a08f-3b986b34398d",
   "metadata": {},
   "outputs": [],
   "source": [
    "\n",
    "class DropoutNet(nn.Module):\n",
    "    def __init__(self, in_channels1=3, out_channels1=32):\n",
    "        super().__init__()\n",
    "\n",
    "        self.in_channels2 = out_channels1\n",
    "        self.out_channels2 = out_channels1 // 2\n",
    "\n",
    "        self.conv1 = nn.Conv2d(in_channels1, out_channels1, kernel_size=(3, 3), padding=1)\n",
    "        self.conv1_dropout = nn.Dropout2d(p=0.4)\n",
    "        self.conv2 = nn.Conv2d(self.in_channels2, self.out_channels2, kernel_size=(3, 3), padding=1)\n",
    "        self.conv2_dropout = nn.Dropout2d(p=0.4)\n",
    "\n",
    "        self.fc1 = nn.Linear(self.out_channels2 * 8 * 8, 32)\n",
    "        self.fc2 = nn.Linear(32, 2)\n",
    "\n",
    "    def forward(self, x):\n",
    "        out = F.max_pool2d(torch.tanh(self.conv1(x)), 2)\n",
    "        out = self.conv1_dropout(out)\n",
    "        out = F.max_pool2d(torch.tanh(self.conv2(out)), 2)\n",
    "        out = self.conv2_dropout(out)\n",
    "        out = out.view(-1, self.out_channels2 * 8 * 8)\n",
    "        out = torch.tanh(self.fc1(out))\n",
    "        out = self.fc2(out)\n",
    "\n",
    "        return out\n",
    "\n"
   ]
  },
  {
   "cell_type": "markdown",
   "id": "7d54823c-e793-4340-af4a-5509591c230a",
   "metadata": {},
   "source": [
    "## 训练"
   ]
  },
  {
   "cell_type": "code",
   "execution_count": 21,
   "id": "5654c76e-226e-4978-8c51-14fceb120e0b",
   "metadata": {},
   "outputs": [
    {
     "name": "stdout",
     "output_type": "stream",
     "text": [
      "Training model [DropoutNet] on deivce [cuda]... ...\n",
      "[Epoch: 1] at 2023-07-26 20:17:46.08 \n",
      "Training Loss: 0.5744\n",
      "[Epoch: 2] at 2023-07-26 20:17:46.81 \n",
      "Training Loss: 0.4904\n",
      "[Epoch: 3] at 2023-07-26 20:17:47.51 \n",
      "Training Loss: 0.4646\n",
      "[Epoch: 4] at 2023-07-26 20:17:48.20 \n",
      "Training Loss: 0.4439\n",
      "[Epoch: 5] at 2023-07-26 20:17:48.93 \n",
      "Training Loss: 0.4170\n",
      "   ...    ...   ...   ...   ...   \n",
      "[Epoch: 20] at 2023-07-26 20:17:59.13 \n",
      "Training Loss: 0.3482\n",
      "   ...    ...   ...   ...   ...   \n",
      "[Epoch: 40] at 2023-07-26 20:18:13.48 \n",
      "Training Loss: 0.3099\n",
      "   ...    ...   ...   ...   ...   \n",
      "[Epoch: 60] at 2023-07-26 20:18:27.82 \n",
      "Training Loss: 0.2824\n",
      "   ...    ...   ...   ...   ...   \n",
      "[Epoch: 80] at 2023-07-26 20:18:42.42 \n",
      "Training Loss: 0.2594\n",
      "   ...    ...   ...   ...   ...   \n",
      "[Epoch: 100] at 2023-07-26 20:18:56.05 \n",
      "Training Loss: 0.2434\n"
     ]
    }
   ],
   "source": [
    "n_epochs = 100\n",
    "batch_size = 64\n",
    "learning_rate = 1e-2\n",
    "model_name = 'DropoutNet'\n",
    "\n",
    "device = (torch.device('cuda') if torch.cuda.is_available() else torch.device('cpu'))\n",
    "print(f'Training model [{model_name}] on deivce [{device}]... ...')\n",
    "\n",
    "dropoutnet = DropoutNet().to(device)\n",
    "optimizer = optim.SGD(dropoutnet.parameters(), lr=learning_rate)\n",
    "loss_fn = nn.CrossEntropyLoss()\n",
    "train_loader = torch.utils.data.DataLoader(cifar2, batch_size=batch_size, shuffle=True)\n",
    "\n",
    "\n",
    "training_loop(\n",
    "    \n",
    "    n_epochs,\n",
    "    dropoutnet,\n",
    "    optimizer, \n",
    "    loss_fn,\n",
    "    train_loader\n",
    "    \n",
    ")\n"
   ]
  },
  {
   "cell_type": "code",
   "execution_count": 22,
   "id": "2adc569f-0e76-4a95-bea5-cc3fc0689295",
   "metadata": {},
   "outputs": [],
   "source": [
    "torch.save(dropoutnet.state_dict(), 'model_parameters/dropoutnet.pt')  # 只有模型的权重、没有结构\n"
   ]
  },
  {
   "cell_type": "code",
   "execution_count": 23,
   "id": "bb309a90-95c2-4aac-852e-10cb4f437df3",
   "metadata": {},
   "outputs": [
    {
     "name": "stdout",
     "output_type": "stream",
     "text": [
      "Accuracy of Model [DropoutNet] on [Train] set is 0.9000\n",
      "Accuracy of Model [DropoutNet] on [Validation] set is 0.8770\n"
     ]
    }
   ],
   "source": [
    "train_loader = torch.utils.data.DataLoader(cifar2, batch_size=64, shuffle=False)\n",
    "val_loader   = torch.utils.data.DataLoader(cifar2_val, batch_size=64, shuffle=False)\n",
    "\n",
    "calculate_accuracy(dropoutnet, train_loader, model_name, 'Train')\n",
    "calculate_accuracy(dropoutnet, val_loader, model_name)    \n",
    "   "
   ]
  },
  {
   "cell_type": "markdown",
   "id": "c32329fb-7b15-48da-b552-a84d7659aa46",
   "metadata": {},
   "source": [
    "# 批量归一化"
   ]
  },
  {
   "cell_type": "markdown",
   "id": "a54ba48a-bb30-480b-9469-9dd247b09d6f",
   "metadata": {},
   "source": [
    "## 添加*nn.BatchNorm*模块"
   ]
  },
  {
   "cell_type": "code",
   "execution_count": 8,
   "id": "c977d4f4-43e1-4e87-8250-67b9d73d7e3f",
   "metadata": {},
   "outputs": [],
   "source": [
    "class BatchNormNet(nn.Module):\n",
    "    def __init__(self, in_channels1=3, out_channels1=32):\n",
    "        super().__init__()\n",
    "\n",
    "        self.in_channels2 = out_channels1\n",
    "        self.out_channels2 = out_channels1 // 2\n",
    "\n",
    "        self.conv1 = nn.Conv2d(in_channels1, out_channels1, kernel_size=(3, 3), padding=1)\n",
    "        self.conv1_batchnorm = nn.BatchNorm2d(num_features=out_channels1)\n",
    "        self.conv2 = nn.Conv2d(self.in_channels2, self.out_channels2, kernel_size=(3, 3), padding=1)\n",
    "        self.conv2_batchnorm = nn.BatchNorm2d(num_features=self.out_channels2)\n",
    "\n",
    "        self.fc1 = nn.Linear(self.out_channels2 * 8 * 8, 32)\n",
    "        self.fc2 = nn.Linear(32, 2)\n",
    "\n",
    "    def forward(self, x):\n",
    "        out = self.conv1_batchnorm(self.conv1(x))\n",
    "        out = F.max_pool2d(torch.tanh(out), 2)\n",
    "        out = self.conv2_batchnorm(self.conv2(out))\n",
    "        out = F.max_pool2d(torch.tanh(out), 2)\n",
    "        out = out.view(-1, self.out_channels2 * 8 * 8)\n",
    "        out = torch.tanh(self.fc1(out))\n",
    "        out = self.fc2(out)\n",
    "\n",
    "        return out"
   ]
  },
  {
   "cell_type": "markdown",
   "id": "beb0cdd2-daaa-4d7f-aead-4c511c4cbd6c",
   "metadata": {},
   "source": [
    "##  训练"
   ]
  },
  {
   "cell_type": "code",
   "execution_count": 7,
   "id": "ceff8adc-2d8b-479e-8637-3e9a942edac1",
   "metadata": {},
   "outputs": [
    {
     "name": "stdout",
     "output_type": "stream",
     "text": [
      "Training model [BatchNormNet] on deivce [cuda]... ...\n",
      "[Epoch: 1] at 2023-07-26 20:30:49.42 \n",
      "Training Loss: 0.4588\n",
      "[Epoch: 2] at 2023-07-26 20:30:50.25 \n",
      "Training Loss: 0.3721\n",
      "[Epoch: 3] at 2023-07-26 20:30:51.11 \n",
      "Training Loss: 0.3459\n",
      "[Epoch: 4] at 2023-07-26 20:30:51.93 \n",
      "Training Loss: 0.3303\n",
      "[Epoch: 5] at 2023-07-26 20:30:52.77 \n",
      "Training Loss: 0.3199\n",
      "    ...    ...   ...   ...   ...   \n",
      "[Epoch: 20] at 2023-07-26 20:31:05.07 \n",
      "Training Loss: 0.2159\n",
      "    ...    ...   ...   ...   ...   \n",
      "[Epoch: 40] at 2023-07-26 20:31:21.45 \n",
      "Training Loss: 0.1312\n",
      "    ...    ...   ...   ...   ...   \n",
      "[Epoch: 60] at 2023-07-26 20:31:37.96 \n",
      "Training Loss: 0.0755\n",
      "    ...    ...   ...   ...   ...   \n",
      "[Epoch: 80] at 2023-07-26 20:31:54.14 \n",
      "Training Loss: 0.0405\n",
      "    ...    ...   ...   ...   ...   \n",
      "[Epoch: 100] at 2023-07-26 20:32:10.47 \n",
      "Training Loss: 0.0243\n"
     ]
    }
   ],
   "source": [
    "n_epochs = 100\n",
    "batch_size = 64\n",
    "learning_rate = 1e-2\n",
    "model_name = 'BatchNormNet'\n",
    "\n",
    "device = (torch.device('cuda') if torch.cuda.is_available() else torch.device('cpu'))\n",
    "print(f'Training model [{model_name}] on deivce [{device}]... ...')\n",
    "\n",
    "batchnormnet = BatchNormNet().to(device)\n",
    "optimizer = optim.SGD(batchnormnet.parameters(), lr=learning_rate)\n",
    "loss_fn = nn.CrossEntropyLoss()\n",
    "train_loader = torch.utils.data.DataLoader(cifar2, batch_size=batch_size, shuffle=True)\n",
    "\n",
    "\n",
    "training_loop(\n",
    "    \n",
    "    n_epochs,\n",
    "    batchnormnet,\n",
    "    optimizer, \n",
    "    loss_fn,\n",
    "    train_loader\n",
    "    \n",
    ")\n"
   ]
  },
  {
   "cell_type": "code",
   "execution_count": 8,
   "id": "eab1c0ac-dcba-4ef3-8434-298a5348de3b",
   "metadata": {},
   "outputs": [],
   "source": [
    "torch.save(batchnormnet.state_dict(), 'model_parameters/batchnormnet.pt')  # 只有模型的权重、没有结构\n"
   ]
  },
  {
   "cell_type": "code",
   "execution_count": 9,
   "id": "6b54359a-ac01-4638-b2cb-72ca5c323c54",
   "metadata": {},
   "outputs": [
    {
     "name": "stdout",
     "output_type": "stream",
     "text": [
      "Accuracy of Model [BatchNormNet] on [Train] set is 0.9499\n",
      "Accuracy of Model [BatchNormNet] on [Validation] set is 0.8475\n"
     ]
    }
   ],
   "source": [
    "train_loader = torch.utils.data.DataLoader(cifar2, batch_size=64, shuffle=False)\n",
    "val_loader   = torch.utils.data.DataLoader(cifar2_val, batch_size=64, shuffle=False)\n",
    "\n",
    "calculate_accuracy(batchnormnet, train_loader, model_name, 'Train')\n",
    "calculate_accuracy(batchnormnet, val_loader, model_name)    \n",
    "  "
   ]
  },
  {
   "cell_type": "markdown",
   "id": "81f9a533-81ef-41e0-bcab-d71522e31561",
   "metadata": {},
   "source": [
    "# 深化模型"
   ]
  },
  {
   "cell_type": "markdown",
   "id": "519dc2e6",
   "metadata": {},
   "source": [
    "## 增加卷积层"
   ]
  },
  {
   "cell_type": "code",
   "execution_count": 9,
   "id": "f633582e-ad62-4405-92fc-83f4b79b0dce",
   "metadata": {},
   "outputs": [],
   "source": [
    "class DeepenNet(nn.Module):\n",
    "    def __init__(self, in_channels1=3, out_channels1=32):\n",
    "        super().__init__()\n",
    "\n",
    "        self.in_channels2  = out_channels1\n",
    "        self.out_channels2 = out_channels1 // 2\n",
    "        self.in_channels3  = out_channels1 // 2\n",
    "        self.out_channels3 = out_channels1 // 2\n",
    "\n",
    "        self.conv1 = nn.Conv2d(in_channels1, out_channels1, kernel_size=3, padding=1)\n",
    "        self.conv2 = nn.Conv2d(self.in_channels2, self.out_channels2, kernel_size=3, padding=1)\n",
    "        self.conv3 = nn.Conv2d(self.in_channels3, self.out_channels3, kernel_size=3, padding=1)\n",
    "\n",
    "        self.fc1 = nn.Linear(self.out_channels3 * 4 * 4, 32)\n",
    "        self.fc2 = nn.Linear(32, 2)\n",
    "    \n",
    "    def forward(self, x):\n",
    "        out = F.max_pool2d(torch.relu(self.conv1(x)), 2)\n",
    "        out = F.max_pool2d(torch.relu(self.conv2(out)), 2)\n",
    "        out = F.max_pool2d(torch.relu(self.conv3(out)), 2)\n",
    "        out = out.view(-1, self.out_channels3 * 4 * 4)\n",
    "        out = torch.relu(self.fc1(out))\n",
    "        out = self.fc2(out)\n",
    "\n",
    "        return out\n",
    " "
   ]
  },
  {
   "cell_type": "markdown",
   "id": "f9dc43cc",
   "metadata": {},
   "source": [
    "## 训练"
   ]
  },
  {
   "cell_type": "code",
   "execution_count": 11,
   "id": "1760dd51-fd32-412c-b5e2-d6d1a2348738",
   "metadata": {},
   "outputs": [
    {
     "name": "stdout",
     "output_type": "stream",
     "text": [
      "Training model [DeepenNet] on deivce [cuda]... ...\n",
      "[Epoch: 1] at 2023-07-26 20:34:10.31 \n",
      "Training Loss: 0.6911\n",
      "[Epoch: 2] at 2023-07-26 20:34:11.19 \n",
      "Training Loss: 0.6628\n",
      "[Epoch: 3] at 2023-07-26 20:34:11.93 \n",
      "Training Loss: 0.5931\n",
      "[Epoch: 4] at 2023-07-26 20:34:12.74 \n",
      "Training Loss: 0.5308\n",
      "[Epoch: 5] at 2023-07-26 20:34:13.60 \n",
      "Training Loss: 0.4955\n",
      "    ...    ...   ...   ...   ...   \n",
      "[Epoch: 20] at 2023-07-26 20:34:26.06 \n",
      "Training Loss: 0.3073\n",
      "    ...    ...   ...   ...   ...   \n",
      "[Epoch: 40] at 2023-07-26 20:34:43.12 \n",
      "Training Loss: 0.2359\n",
      "    ...    ...   ...   ...   ...   \n",
      "[Epoch: 60] at 2023-07-26 20:34:59.85 \n",
      "Training Loss: 0.1817\n",
      "    ...    ...   ...   ...   ...   \n",
      "[Epoch: 80] at 2023-07-26 20:35:16.78 \n",
      "Training Loss: 0.1313\n",
      "    ...    ...   ...   ...   ...   \n",
      "[Epoch: 100] at 2023-07-26 20:35:33.15 \n",
      "Training Loss: 0.0886\n"
     ]
    }
   ],
   "source": [
    "n_epochs = 100\n",
    "batch_size = 64\n",
    "learning_rate = 1e-2\n",
    "model_name = 'DeepenNet'\n",
    "\n",
    "device = (torch.device('cuda') if torch.cuda.is_available() else torch.device('cpu'))\n",
    "print(f'Training model [{model_name}] on deivce [{device}]... ...')\n",
    "\n",
    "deepennet = DeepenNet().to(device)\n",
    "optimizer = optim.SGD(deepennet.parameters(), lr=learning_rate)\n",
    "loss_fn = nn.CrossEntropyLoss()\n",
    "train_loader = torch.utils.data.DataLoader(cifar2, batch_size=batch_size, shuffle=True)\n",
    "\n",
    "\n",
    "training_loop(\n",
    "    \n",
    "    n_epochs,\n",
    "    deepennet,\n",
    "    optimizer, \n",
    "    loss_fn,\n",
    "    train_loader\n",
    "    \n",
    ")\n"
   ]
  },
  {
   "cell_type": "code",
   "execution_count": 12,
   "id": "23d70b83-47dc-42cc-a1af-82f72faf31c2",
   "metadata": {},
   "outputs": [],
   "source": [
    "torch.save(deepennet.state_dict(), 'model_parameters/deepennet.pt')  # 只有模型的权重、没有结构\n"
   ]
  },
  {
   "cell_type": "code",
   "execution_count": 13,
   "id": "85626bb2-596d-47f2-8de7-81a1b6e60942",
   "metadata": {},
   "outputs": [
    {
     "name": "stdout",
     "output_type": "stream",
     "text": [
      "Accuracy of Model [DeepenNet] on [Train] set is 0.9683\n",
      "Accuracy of Model [DeepenNet] on [Validation] set is 0.9050\n"
     ]
    }
   ],
   "source": [
    "train_loader = torch.utils.data.DataLoader(cifar2, batch_size=64, shuffle=False)\n",
    "val_loader   = torch.utils.data.DataLoader(cifar2_val, batch_size=64, shuffle=False)\n",
    "\n",
    "calculate_accuracy(deepennet, train_loader, model_name, 'Train')\n",
    "calculate_accuracy(deepennet, val_loader, model_name)    \n",
    "  "
   ]
  },
  {
   "cell_type": "markdown",
   "id": "db2b8e5c-2ff0-41c7-bbee-5cf61ae11709",
   "metadata": {},
   "source": [
    "# 残差模型"
   ]
  },
  {
   "cell_type": "markdown",
   "id": "821bdbd2",
   "metadata": {},
   "source": [
    "## 整合输出\n",
    "- 将之前卷积层的输出和最后一层激活后的卷积一起池化"
   ]
  },
  {
   "cell_type": "code",
   "execution_count": 10,
   "id": "730708c2-5cbc-4140-b850-4ef899cb15c2",
   "metadata": {},
   "outputs": [],
   "source": [
    "class ResNet(nn.Module):\n",
    "    def __init__(self, in_channels1=3, out_channels1=32):\n",
    "        super().__init__()\n",
    "\n",
    "        self.in_channels2  = out_channels1\n",
    "        self.out_channels2 = out_channels1 // 2\n",
    "        self.in_channels3  = out_channels1 // 2\n",
    "        self.out_channels3 = out_channels1 // 2\n",
    "\n",
    "        self.conv1 = nn.Conv2d(in_channels1 ,out_channels1, kernel_size=3, padding=1)\n",
    "        self.conv2 = nn.Conv2d(self.in_channels2, self.out_channels2, kernel_size=3, padding=1)\n",
    "        self.conv3 = nn.Conv2d(self.in_channels3, self.out_channels3, kernel_size=3, padding=1)\n",
    "\n",
    "        self.fc1 = nn.Linear(self.out_channels3 * 4 * 4, 32)\n",
    "        self.fc2 = nn.Linear(32, 2)\n",
    "\n",
    "    def forward(self, x):\n",
    "        out1 = F.max_pool2d(torch.relu(self.conv1(x)), 2)\n",
    "        out2 = F.max_pool2d(torch.relu(self.conv2(out1)), 2)\n",
    "        out3 = F.max_pool2d(torch.relu(self.conv3(out2)) + out2, 2)\n",
    "        out3 = out3.view(-1, self.out_channels3 * 4 * 4)\n",
    "        out4 = torch.relu(self.fc1(out3))\n",
    "        out5 = self.fc2(out4)\n",
    "\n",
    "        return out5"
   ]
  },
  {
   "cell_type": "markdown",
   "id": "473e7839",
   "metadata": {},
   "source": [
    "## 训练"
   ]
  },
  {
   "cell_type": "code",
   "execution_count": 19,
   "id": "e9fc2dd7-00d0-450a-b1b7-475d11e7d681",
   "metadata": {},
   "outputs": [
    {
     "name": "stdout",
     "output_type": "stream",
     "text": [
      "Training model [ResNet] on deivce [cuda]... ...\n",
      "[Epoch: 1] at 2023-07-26 20:39:13.34 \n",
      "Training Loss: 0.6302\n",
      "[Epoch: 2] at 2023-07-26 20:39:14.08 \n",
      "Training Loss: 0.5092\n",
      "[Epoch: 3] at 2023-07-26 20:39:15.04 \n",
      "Training Loss: 0.4323\n",
      "[Epoch: 4] at 2023-07-26 20:39:15.87 \n",
      "Training Loss: 0.3876\n",
      "[Epoch: 5] at 2023-07-26 20:39:16.72 \n",
      "Training Loss: 0.3644\n",
      "    ...    ...   ...   ...   ...   \n",
      "[Epoch: 20] at 2023-07-26 20:39:29.66 \n",
      "Training Loss: 0.2842\n",
      "    ...    ...   ...   ...   ...   \n",
      "[Epoch: 40] at 2023-07-26 20:39:46.94 \n",
      "Training Loss: 0.2184\n",
      "    ...    ...   ...   ...   ...   \n",
      "[Epoch: 60] at 2023-07-26 20:40:03.51 \n",
      "Training Loss: 0.1649\n",
      "    ...    ...   ...   ...   ...   \n",
      "[Epoch: 80] at 2023-07-26 20:40:20.37 \n",
      "Training Loss: 0.1204\n",
      "    ...    ...   ...   ...   ...   \n",
      "[Epoch: 100] at 2023-07-26 20:40:37.11 \n",
      "Training Loss: 0.0754\n"
     ]
    }
   ],
   "source": [
    "n_epochs = 100\n",
    "batch_size = 64\n",
    "learning_rate = 1e-2\n",
    "model_name = 'ResNet'\n",
    "\n",
    "device = (torch.device('cuda') if torch.cuda.is_available() else torch.device('cpu'))\n",
    "print(f'Training model [{model_name}] on deivce [{device}]... ...')\n",
    "\n",
    "resnet = ResNet().to(device)\n",
    "optimizer = optim.SGD(resnet.parameters(), lr=learning_rate)\n",
    "loss_fn = nn.CrossEntropyLoss()\n",
    "train_loader = torch.utils.data.DataLoader(cifar2, batch_size=batch_size, shuffle=True)\n",
    "\n",
    "\n",
    "training_loop(\n",
    "    \n",
    "    n_epochs,\n",
    "    resnet,\n",
    "    optimizer, \n",
    "    loss_fn,\n",
    "    train_loader\n",
    "    \n",
    ")\n"
   ]
  },
  {
   "cell_type": "code",
   "execution_count": 20,
   "id": "0b26995e-8ef9-444e-bc03-87584f1fdc9f",
   "metadata": {},
   "outputs": [],
   "source": [
    "torch.save(resnet.state_dict(), 'model_parameters/resnet.pt')  # 只有模型的权重、没有结构\n"
   ]
  },
  {
   "cell_type": "code",
   "execution_count": 21,
   "id": "3c78775f-259b-475e-827c-47092423213e",
   "metadata": {},
   "outputs": [
    {
     "name": "stdout",
     "output_type": "stream",
     "text": [
      "Accuracy of Model [ResNet] on [Train] set is 0.9766\n",
      "Accuracy of Model [ResNet] on [Validation] set is 0.8995\n"
     ]
    }
   ],
   "source": [
    "train_loader = torch.utils.data.DataLoader(cifar2, batch_size=64, shuffle=False)\n",
    "val_loader   = torch.utils.data.DataLoader(cifar2_val, batch_size=64, shuffle=False)\n",
    "\n",
    "calculate_accuracy(resnet, train_loader, model_name, 'Train')\n",
    "calculate_accuracy(resnet, val_loader, model_name)    \n",
    "  "
   ]
  },
  {
   "cell_type": "markdown",
   "id": "0463d643-db5f-491b-a553-d28b6901a76d",
   "metadata": {},
   "source": [
    "# 更深的残差模型"
   ]
  },
  {
   "cell_type": "markdown",
   "id": "f68de29a",
   "metadata": {},
   "source": [
    "## 构建残差块"
   ]
  },
  {
   "cell_type": "code",
   "execution_count": 11,
   "id": "13909a7a-5494-4530-8a94-bf92ff189da6",
   "metadata": {},
   "outputs": [],
   "source": [
    "class ResBlock(nn.Module):\n",
    "    def __init__(self, n_channels):\n",
    "        super(ResBlock, self).__init__()\n",
    "\n",
    "        self.conv = nn.Conv2d(n_channels, n_channels, kernel_size=3, padding=1, bias=False)\n",
    "        self.batchnorm = nn.BatchNorm2d(num_features=n_channels)\n",
    "\n",
    "        torch.nn.init.kaiming_normal_(self.conv.weight, nonlinearity='relu')\n",
    "        torch.nn.init.constant_(self.batchnorm.weight, 0.5)\n",
    "        torch.nn.init.zeros_(self.batchnorm.bias)\n",
    "\n",
    "    def forward(self, x):\n",
    "        out = self.conv(x)\n",
    "        out = self.batchnorm(out)\n",
    "        out = torch.relu(out)\n",
    "\n",
    "        return out + x\n",
    "\n",
    "    \n",
    "class DeepenResNet(nn.Module):\n",
    "    def __init__(self, n_channels=32, n_blocks=10):\n",
    "        super().__init__()\n",
    "        self.n_channels = n_channels\n",
    "        self.conv1 = nn.Conv2d(in_channels=3, out_channels=n_channels, kernel_size=3, padding=1)\n",
    "        self.resblocks = nn.Sequential(\n",
    "            *(n_blocks * [ResBlock(n_channels=n_channels)])\n",
    "        )\n",
    "        self.fc1 = nn.Linear(n_channels * 8 * 8, 32)\n",
    "        self.fc2 = nn.Linear(32, 2)\n",
    "\n",
    "    def forward(self, x):\n",
    "        out = F.max_pool2d(torch.tanh(self.conv1(x)), 2)\n",
    "        out = self.resblocks(out)\n",
    "        out = F.max_pool2d(out, 2)\n",
    "        out = out.view(-1, self.n_channels * 8 * 8)\n",
    "        out = torch.relu(self.fc1(out))\n",
    "        out = self.fc2(out)\n",
    "\n",
    "        return out\n"
   ]
  },
  {
   "cell_type": "markdown",
   "id": "59ae31bd",
   "metadata": {},
   "source": [
    "## 训练"
   ]
  },
  {
   "cell_type": "code",
   "execution_count": 15,
   "id": "1d94d8e2-67d4-4f50-89e7-d1b770c1ea8f",
   "metadata": {},
   "outputs": [
    {
     "name": "stdout",
     "output_type": "stream",
     "text": [
      "Training model [DeepenResNet] on deivce [cuda]... ...\n",
      "[Epoch: 1] at 2023-07-27 10:58:17.95 \n",
      "Training Loss: 0.4709\n",
      "[Epoch: 2] at 2023-07-27 10:58:24.75 \n",
      "Training Loss: 0.3874\n",
      "[Epoch: 3] at 2023-07-27 10:58:31.54 \n",
      "Training Loss: 0.3520\n",
      "[Epoch: 4] at 2023-07-27 10:58:38.33 \n",
      "Training Loss: 0.3262\n",
      "[Epoch: 5] at 2023-07-27 10:58:45.16 \n",
      "Training Loss: 0.3101\n",
      "    ...    ...   ...   ...   ...   \n",
      "[Epoch: 20] at 2023-07-27 11:00:27.67 \n",
      "Training Loss: 0.1778\n",
      "    ...    ...   ...   ...   ...   \n",
      "[Epoch: 40] at 2023-07-27 11:02:43.95 \n",
      "Training Loss: 0.0608\n",
      "    ...    ...   ...   ...   ...   \n",
      "[Epoch: 60] at 2023-07-27 11:04:59.79 \n",
      "Training Loss: 0.0189\n",
      "    ...    ...   ...   ...   ...   \n",
      "[Epoch: 80] at 2023-07-27 11:07:16.23 \n",
      "Training Loss: 0.0051\n",
      "    ...    ...   ...   ...   ...   \n",
      "[Epoch: 100] at 2023-07-27 11:09:32.10 \n",
      "Training Loss: 0.0054\n"
     ]
    }
   ],
   "source": [
    "n_epochs = 100\n",
    "batch_size = 64\n",
    "learning_rate = 3e-3\n",
    "model_name = 'DeepenResNet'\n",
    "\n",
    "device = (torch.device('cuda') if torch.cuda.is_available() else torch.device('cpu'))\n",
    "print(f'Training model [{model_name}] on deivce [{device}]... ...')\n",
    "\n",
    "deepenresnet = DeepenResNet().to(device)\n",
    "optimizer = optim.SGD(deepenresnet.parameters(), lr=learning_rate)\n",
    "loss_fn = nn.CrossEntropyLoss()\n",
    "train_loader = torch.utils.data.DataLoader(cifar2, batch_size=batch_size, shuffle=True)\n",
    "\n",
    "\n",
    "training_loop(\n",
    "    \n",
    "    n_epochs,\n",
    "    deepenresnet,\n",
    "    optimizer, \n",
    "    loss_fn,\n",
    "    train_loader\n",
    "    \n",
    ")\n",
    "\n"
   ]
  },
  {
   "cell_type": "code",
   "execution_count": 16,
   "id": "91133290-98eb-4766-95fd-9e2bc7651a2f",
   "metadata": {},
   "outputs": [],
   "source": [
    "torch.save(deepenresnet.state_dict(), 'model_parameters/deepenresnet.pt')  # 只有模型的权重、没有结构\n"
   ]
  },
  {
   "cell_type": "code",
   "execution_count": 17,
   "id": "8dcff330-4b17-4aea-a9fd-873d712fcc12",
   "metadata": {},
   "outputs": [
    {
     "name": "stdout",
     "output_type": "stream",
     "text": [
      "Accuracy of Model [DeepenResNet] on [Train] set is 0.9999\n",
      "Accuracy of Model [DeepenResNet] on [Validation] set is 0.8915\n"
     ]
    }
   ],
   "source": [
    "train_loader = torch.utils.data.DataLoader(cifar2, batch_size=64, shuffle=False)\n",
    "val_loader   = torch.utils.data.DataLoader(cifar2_val, batch_size=64, shuffle=False)\n",
    "\n",
    "calculate_accuracy(deepenresnet, train_loader, model_name, 'Train')\n",
    "calculate_accuracy(deepenresnet, val_loader, model_name)    \n",
    "  "
   ]
  },
  {
   "cell_type": "markdown",
   "id": "81927828",
   "metadata": {},
   "source": [
    "# 对比模型"
   ]
  },
  {
   "cell_type": "markdown",
   "id": "44d8a49e",
   "metadata": {},
   "source": [
    "## 计算模型在训练集和测试集上的准确率"
   ]
  },
  {
   "cell_type": "code",
   "execution_count": 12,
   "id": "daef1b96-7eea-4fa7-8bf5-c089648510e2",
   "metadata": {
    "scrolled": true
   },
   "outputs": [
    {
     "name": "stdout",
     "output_type": "stream",
     "text": [
      "Calculating accuracy on deivce [cuda]... ...\n",
      "\n",
      "Accuracy of Model [widennet] on [Train] set is 0.9654\n",
      "Accuracy of Model [widennet] on [Validation] set is 0.8945\n",
      "*-----------------------------------------------------------*\n",
      "Accuracy of Model [net_L2Reg] on [Train] set is 0.9303\n",
      "Accuracy of Model [net_L2Reg] on [Validation] set is 0.8855\n",
      "*-----------------------------------------------------------*\n",
      "Accuracy of Model [dropoutnet] on [Train] set is 0.8935\n",
      "Accuracy of Model [dropoutnet] on [Validation] set is 0.8725\n",
      "*-----------------------------------------------------------*\n",
      "Accuracy of Model [batchnormnet] on [Train] set is 0.9499\n",
      "Accuracy of Model [batchnormnet] on [Validation] set is 0.8475\n",
      "*-----------------------------------------------------------*\n",
      "Accuracy of Model [deepennet] on [Train] set is 0.9683\n",
      "Accuracy of Model [deepennet] on [Validation] set is 0.9050\n",
      "*-----------------------------------------------------------*\n",
      "Accuracy of Model [resnet] on [Train] set is 0.9766\n",
      "Accuracy of Model [resnet] on [Validation] set is 0.8995\n",
      "*-----------------------------------------------------------*\n",
      "Accuracy of Model [deepenresnet] on [Train] set is 0.9999\n",
      "Accuracy of Model [deepenresnet] on [Validation] set is 0.8915\n",
      "*-----------------------------------------------------------*\n"
     ]
    },
    {
     "data": {
      "text/plain": [
       "([0.9654, 0.9303, 0.8935, 0.9499, 0.9683, 0.9766, 0.9999],\n",
       " [0.8945, 0.8855, 0.8725, 0.8475, 0.905, 0.8995, 0.8915],\n",
       " array([[0.9654, 0.9303, 0.8935, 0.9499, 0.9683, 0.9766, 0.9999],\n",
       "        [0.8945, 0.8855, 0.8725, 0.8475, 0.905 , 0.8995, 0.8915]]))"
      ]
     },
     "execution_count": 12,
     "metadata": {},
     "output_type": "execute_result"
    }
   ],
   "source": [
    "file_names = ['widennet.pt', 'net_L2Reg.pt', 'dropoutnet.pt', \n",
    "              'batchnormnet.pt', 'deepennet.pt', 'resnet.pt', 'deepenresnet.pt']\n",
    "nets = [WidenNet(), Net(), DropoutNet(), BatchNormNet(), DeepenNet(), ResNet(), DeepenResNet()]\n",
    "device = (torch.device('cuda') if torch.cuda.is_available() else torch.device('cpu'))\n",
    "print(f'Calculating accuracy on deivce [{device}]... ...\\n')\n",
    "\n",
    "train_loader = torch.utils.data.DataLoader(cifar2, batch_size=64, shuffle=False)\n",
    "val_loader   = torch.utils.data.DataLoader(cifar2_val, batch_size=64, shuffle=False)\n",
    "train_accuracy = []\n",
    "val_accuracy = []\n",
    "\n",
    "for net, file_name in zip(nets, file_names):\n",
    "    \n",
    "    model = net.to(device)\n",
    "    model_name = file_name[: -3]\n",
    "    model.load_state_dict(torch.load('model_parameters/' + file_name, map_location=device))\n",
    "    \n",
    "    train_accuracy.append(calculate_accuracy(net, train_loader, model_name, 'Train'))\n",
    "    val_accuracy.append(calculate_accuracy(net, val_loader, model_name))\n",
    "    print('*-----------------------------------------------------------*')\n",
    "\n",
    "    \n",
    "accuracy = np.array([train_accuracy, val_accuracy])\n",
    "train_accuracy, val_accuracy, accuracy"
   ]
  },
  {
   "cell_type": "markdown",
   "id": "de014782",
   "metadata": {},
   "source": [
    "## 绘制柱状图"
   ]
  },
  {
   "cell_type": "code",
   "execution_count": 50,
   "id": "2c6f2aee-c55d-4c6c-8ec6-f059270bbe82",
   "metadata": {},
   "outputs": [
    {
     "data": {
      "image/png": "[encoded data removed]",
      "text/plain": [
       "<Figure size 432x288 with 1 Axes>"
      ]
     },
     "metadata": {
      "needs_background": "light"
     },
     "output_type": "display_data"
    }
   ],
   "source": [
    "fig, ax = plt.subplots(nrows=1, ncols=1)\n",
    "model_names = [name.replace('.pt', '') for name in file_names]\n",
    "labels = ['Train', 'Validation']\n",
    "\n",
    "n_variables = 7\n",
    "n_bars = 2\n",
    "x = np.arange(n_variables) * n_bars\n",
    "width = .8\n",
    "adjust = [width * i \n",
    "          for i in [bar_loc - (n_bars - 1) / 2 for bar_loc in range(n_bars)]]\n",
    "colors = sns.cubehelix_palette(n_colors=n_bars, rot=-0.2, gamma=0.6)\n",
    "\n",
    "\n",
    "for (acc, adjust, color, label) in zip(accuracy, adjust, colors, labels):\n",
    "    \n",
    "    bar = ax.bar(x=x + adjust, height=acc, width=width, label=label,\n",
    "                 color=color, edgecolor='black', linewidth=1.8)\n",
    "    for rect in bar:\n",
    "        height = rect.get_height()\n",
    "        ax.text(x=rect.get_x() + rect.get_width() / 2, y=height, \n",
    "                s=str(round(height, 2)), ha='center', va='bottom')\n",
    "    \n",
    "ax.set_xticks(x)\n",
    "ax.set_xticklabels(model_names, rotation=18)\n",
    "ax.set_ylim(0.7, 1.06)\n",
    "ax.legend()\n",
    "\n",
    "\n",
    "ax.spines['right'].set_color('none')\n",
    "ax.spines['top'].set_color('none')\n",
    "ax.spines['left'].set_linewidth(1.8)\n",
    "ax.spines['bottom'].set_linewidth(1.8)\n",
    "\n"
   ]
  },
  {
   "cell_type": "code",
   "execution_count": null,
   "id": "83a49c41",
   "metadata": {},
   "outputs": [],
   "source": []
  },
  {
   "cell_type": "code",
   "execution_count": null,
   "id": "e6483501",
   "metadata": {},
   "outputs": [],
   "source": []
  },
  {
   "cell_type": "code",
   "execution_count": null,
   "id": "6f377376",
   "metadata": {},
   "outputs": [],
   "source": []
  }
 ],
 "metadata": {
  "kernelspec": {
   "display_name": "yolo",
   "language": "python",
   "name": "yolo"
  },
  "language_info": {
   "codemirror_mode": {
    "name": "ipython",
    "version": 3
   },
   "file_extension": ".py",
   "mimetype": "text/x-python",
   "name": "python",
   "nbconvert_exporter": "python",
   "pygments_lexer": "ipython3",
   "version": "3.6.13"
  },
  "toc": {
   "base_numbering": 1,
   "nav_menu": {},
   "number_sections": true,
   "sideBar": true,
   "skip_h1_title": false,
   "title_cell": "Table of Contents",
   "title_sidebar": "Contents",
   "toc_cell": false,
   "toc_position": {},
   "toc_section_display": true,
   "toc_window_display": true
  },
  "toc-showmarkdowntxt": false
 },
 "nbformat": 4,
 "nbformat_minor": 5
}
